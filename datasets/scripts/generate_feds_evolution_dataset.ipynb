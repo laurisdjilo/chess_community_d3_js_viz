{
 "cells": [
  {
   "cell_type": "code",
   "execution_count": 1,
   "metadata": {},
   "outputs": [],
   "source": [
    "import pandas as pd\n",
    "import numpy as np\n",
    "import json, datetime"
   ]
  },
  {
   "cell_type": "code",
   "execution_count": null,
   "metadata": {},
   "outputs": [],
   "source": [
    "countries_region = pd.read_csv(\"countries_region.csv\")"
   ]
  },
  {
   "cell_type": "code",
   "execution_count": 22,
   "metadata": {},
   "outputs": [
    {
     "name": "stderr",
     "output_type": "stream",
     "text": [
      "/tmp/ipykernel_147199/2183709019.py:6: UserWarning: Boolean Series key will be reindexed to match DataFrame index.\n",
      "  months_df[month] = tmp[tmp['flag'] != 'wi'][tmp['flag'] != 'i'][['country', 'title', 'rating']]\n"
     ]
    }
   ],
   "source": [
    "\n",
    "months = ['jan20', 'feb20', 'mar20', 'apr20', 'may20', 'jun20', 'jul20', 'aug20', 'sep20', 'oct20', 'nov20', 'dec20',\n",
    "    'jan21', 'feb21', 'mar21', 'apr21', 'may21', 'jun21', 'jul21', 'aug21', 'sep21', 'oct21', 'nov21']\n",
    "months_df = {}\n",
    "for month in months:\n",
    "    tmp = pd.read_csv(\"standard_{}frl.csv\".format(month), sep = ';')\n",
    "    months_df[month] = tmp[tmp['flag'] != 'wi'][tmp['flag'] != 'i'][['country', 'title', 'rating']]"
   ]
  },
  {
   "cell_type": "code",
   "execution_count": 23,
   "metadata": {},
   "outputs": [],
   "source": [
    "def replace_title(x):\n",
    "    if x[1] in ['WFM', 'IM', 'GM', 'WIM', 'FM', 'WGM', 'CM', 'WCM']:\n",
    "        x[1] = 1\n",
    "    else:\n",
    "        x[1] = 0\n",
    "    return x"
   ]
  },
  {
   "cell_type": "code",
   "execution_count": 24,
   "metadata": {},
   "outputs": [],
   "source": [
    "intermediate_result = pd.DataFrame(columns=['country', 'month', 'nbr_players', 'top_k_avg', 'nbr_titles'])\n",
    "\n",
    "for month in months_df:\n",
    "    tmp = months_df[month]\n",
    "    tmp = tmp.apply(replace_title, axis=1)\n",
    "    \n",
    "    # Calculate top 10 avg rating per federation\n",
    "    top_k_avg = tmp.groupby(['country'], sort=True) \\\n",
    "        .apply(lambda x: x.sort_values(['rating'], ascending=False)) \\\n",
    "        .reset_index(drop=True)\n",
    "    top_k_avg = top_k_avg.groupby('country').head(10)\n",
    "    top_k_avg = top_k_avg.groupby(['country'], as_index=False).agg({'rating': 'mean'})\n",
    "\n",
    "    # Calculate number of players and number of titles per federation\n",
    "    tmp['eff'] = 1\n",
    "    nbr_players_titles = tmp.groupby(['country'], as_index=False).agg({'title': 'sum', 'eff': 'sum'})\n",
    "\n",
    "    # Merge the whole\n",
    "    tmp = top_k_avg.merge(nbr_players_titles, how='inner', on='country')\n",
    "    tmp.columns = ['country', 'top_k_avg', 'nbr_titles', 'nbr_players']\n",
    "    tmp['month'] = month\n",
    "    intermediate_result = intermediate_result.append(tmp)"
   ]
  },
  {
   "cell_type": "code",
   "execution_count": 26,
   "metadata": {},
   "outputs": [
    {
     "data": {
      "text/plain": [
       "{'CAM'}"
      ]
     },
     "execution_count": 26,
     "metadata": {},
     "output_type": "execute_result"
    }
   ],
   "source": [
    "set(intermediate_result.country.unique()) - set(countries_region.country.unique())"
   ]
  },
  {
   "cell_type": "code",
   "execution_count": null,
   "metadata": {},
   "outputs": [],
   "source": [
    "final_data = []\n",
    "for country in intermediate_result.country.unique():\n",
    "    bla = intermediate_result[intermediate_result.country == country]\n",
    "    country_dict = {\n",
    "        \"name\": country\n",
    "        , \"region\": countries_region[countries_region.country==country].region.unique()[0]\n",
    "    }\n",
    "    country_dict['nbr_players'] = bla.nbr_players.to_list()\n",
    "    country_dict['top_k_avg'] = bla.top_k_avg.to_list()\n",
    "    country_dict['nbr_titles'] = bla.nbr_titles.to_list()\n",
    "    final_data.append(country_dict)\n"
   ]
  },
  {
   "cell_type": "code",
   "execution_count": 8,
   "metadata": {},
   "outputs": [],
   "source": [
    "def myconverter(obj):\n",
    "        if isinstance(obj, np.integer):\n",
    "            return int(obj)\n",
    "        elif isinstance(obj, np.floating):\n",
    "            return float(obj)\n",
    "        elif isinstance(obj, np.ndarray):\n",
    "            return obj.tolist()\n",
    "        elif isinstance(obj, datetime.datetime):\n",
    "            return obj.__str__()\n",
    "with open('feds_standard_evolution.json', 'w') as outfile:\n",
    "    json.dump(final_data, outfile, default=myconverter)"
   ]
  },
  {
   "cell_type": "code",
   "execution_count": 9,
   "metadata": {},
   "outputs": [
    {
     "data": {
      "text/plain": [
       "array(['Asie', 'Europe', 'Afrique', 'Océanie', 'Amérique', 'Iconnu'],\n",
       "      dtype=object)"
      ]
     },
     "execution_count": 9,
     "metadata": {},
     "output_type": "execute_result"
    }
   ],
   "source": [
    "countries_region.region.unique()"
   ]
  },
  {
   "cell_type": "code",
   "execution_count": 19,
   "metadata": {},
   "outputs": [
    {
     "data": {
      "text/html": [
       "<div>\n",
       "<style scoped>\n",
       "    .dataframe tbody tr th:only-of-type {\n",
       "        vertical-align: middle;\n",
       "    }\n",
       "\n",
       "    .dataframe tbody tr th {\n",
       "        vertical-align: top;\n",
       "    }\n",
       "\n",
       "    .dataframe thead th {\n",
       "        text-align: right;\n",
       "    }\n",
       "</style>\n",
       "<table border=\"1\" class=\"dataframe\">\n",
       "  <thead>\n",
       "    <tr style=\"text-align: right;\">\n",
       "      <th></th>\n",
       "      <th>country</th>\n",
       "      <th>month</th>\n",
       "      <th>nbr_players</th>\n",
       "      <th>top_k_avg</th>\n",
       "      <th>nbr_titles</th>\n",
       "    </tr>\n",
       "  </thead>\n",
       "  <tbody>\n",
       "    <tr>\n",
       "      <th>73</th>\n",
       "      <td>IND</td>\n",
       "      <td>jan21</td>\n",
       "      <td>12451</td>\n",
       "      <td>2669.6</td>\n",
       "      <td>328</td>\n",
       "    </tr>\n",
       "    <tr>\n",
       "      <th>73</th>\n",
       "      <td>IND</td>\n",
       "      <td>feb21</td>\n",
       "      <td>11843</td>\n",
       "      <td>2667.5</td>\n",
       "      <td>324</td>\n",
       "    </tr>\n",
       "    <tr>\n",
       "      <th>73</th>\n",
       "      <td>IND</td>\n",
       "      <td>mar21</td>\n",
       "      <td>11738</td>\n",
       "      <td>2667.3</td>\n",
       "      <td>326</td>\n",
       "    </tr>\n",
       "    <tr>\n",
       "      <th>72</th>\n",
       "      <td>IND</td>\n",
       "      <td>apr21</td>\n",
       "      <td>11806</td>\n",
       "      <td>2667.0</td>\n",
       "      <td>328</td>\n",
       "    </tr>\n",
       "    <tr>\n",
       "      <th>72</th>\n",
       "      <td>IND</td>\n",
       "      <td>may21</td>\n",
       "      <td>11372</td>\n",
       "      <td>2667.0</td>\n",
       "      <td>327</td>\n",
       "    </tr>\n",
       "    <tr>\n",
       "      <th>71</th>\n",
       "      <td>IND</td>\n",
       "      <td>jun21</td>\n",
       "      <td>10356</td>\n",
       "      <td>2667.0</td>\n",
       "      <td>327</td>\n",
       "    </tr>\n",
       "    <tr>\n",
       "      <th>71</th>\n",
       "      <td>IND</td>\n",
       "      <td>jul21</td>\n",
       "      <td>9405</td>\n",
       "      <td>2667.0</td>\n",
       "      <td>323</td>\n",
       "    </tr>\n",
       "    <tr>\n",
       "      <th>70</th>\n",
       "      <td>IND</td>\n",
       "      <td>aug21</td>\n",
       "      <td>9010</td>\n",
       "      <td>2670.5</td>\n",
       "      <td>314</td>\n",
       "    </tr>\n",
       "    <tr>\n",
       "      <th>67</th>\n",
       "      <td>IND</td>\n",
       "      <td>sep21</td>\n",
       "      <td>8495</td>\n",
       "      <td>2669.2</td>\n",
       "      <td>300</td>\n",
       "    </tr>\n",
       "    <tr>\n",
       "      <th>67</th>\n",
       "      <td>IND</td>\n",
       "      <td>oct21</td>\n",
       "      <td>8225</td>\n",
       "      <td>2671.4</td>\n",
       "      <td>302</td>\n",
       "    </tr>\n",
       "    <tr>\n",
       "      <th>66</th>\n",
       "      <td>IND</td>\n",
       "      <td>nov21</td>\n",
       "      <td>7038</td>\n",
       "      <td>2671.0</td>\n",
       "      <td>294</td>\n",
       "    </tr>\n",
       "  </tbody>\n",
       "</table>\n",
       "</div>"
      ],
      "text/plain": [
       "   country  month nbr_players  top_k_avg nbr_titles\n",
       "73     IND  jan21       12451     2669.6        328\n",
       "73     IND  feb21       11843     2667.5        324\n",
       "73     IND  mar21       11738     2667.3        326\n",
       "72     IND  apr21       11806     2667.0        328\n",
       "72     IND  may21       11372     2667.0        327\n",
       "71     IND  jun21       10356     2667.0        327\n",
       "71     IND  jul21        9405     2667.0        323\n",
       "70     IND  aug21        9010     2670.5        314\n",
       "67     IND  sep21        8495     2669.2        300\n",
       "67     IND  oct21        8225     2671.4        302\n",
       "66     IND  nov21        7038     2671.0        294"
      ]
     },
     "execution_count": 19,
     "metadata": {},
     "output_type": "execute_result"
    }
   ],
   "source": [
    "intermediate_result[intermediate_result.country=='IND']"
   ]
  },
  {
   "cell_type": "code",
   "execution_count": null,
   "metadata": {},
   "outputs": [],
   "source": []
  }
 ],
 "metadata": {
  "interpreter": {
   "hash": "31f2aee4e71d21fbe5cf8b01ff0e069b9275f58929596ceb00d14d90e3e16cd6"
  },
  "kernelspec": {
   "display_name": "Python 3.8.10 64-bit",
   "language": "python",
   "name": "python3"
  },
  "language_info": {
   "codemirror_mode": {
    "name": "ipython",
    "version": 3
   },
   "file_extension": ".py",
   "mimetype": "text/x-python",
   "name": "python",
   "nbconvert_exporter": "python",
   "pygments_lexer": "ipython3",
   "version": "3.8.10"
  },
  "orig_nbformat": 4
 },
 "nbformat": 4,
 "nbformat_minor": 2
}
